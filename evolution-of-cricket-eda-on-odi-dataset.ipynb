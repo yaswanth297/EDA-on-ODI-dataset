{
 "cells": [
  {
   "cell_type": "code",
   "execution_count": 1,
   "id": "6a28f7f7",
   "metadata": {
    "_cell_guid": "b1076dfc-b9ad-4769-8c92-a6c4dae69d19",
    "_uuid": "8f2839f25d086af736a60e9eeb907d3b93b6e0e5",
    "execution": {
     "iopub.execute_input": "2023-05-31T14:20:54.609708Z",
     "iopub.status.busy": "2023-05-31T14:20:54.609165Z",
     "iopub.status.idle": "2023-05-31T14:20:56.623809Z",
     "shell.execute_reply": "2023-05-31T14:20:56.622479Z"
    },
    "papermill": {
     "duration": 2.025749,
     "end_time": "2023-05-31T14:20:56.626947",
     "exception": false,
     "start_time": "2023-05-31T14:20:54.601198",
     "status": "completed"
    },
    "tags": []
   },
   "outputs": [
    {
     "name": "stdout",
     "output_type": "stream",
     "text": [
      "/kaggle/input/odi-matches-dataset-2000-2010/ODI.csv\n"
     ]
    }
   ],
   "source": [
    "import numpy as np \n",
    "import pandas as pd \n",
    "\n",
    "import os\n",
    "for dirname, _, filenames in os.walk('/kaggle/input'):\n",
    "    for filename in filenames:\n",
    "        print(os.path.join(dirname, filename))\n",
    "        \n",
    "import seaborn as sns\n",
    "import matplotlib.pyplot as plt\n",
    "import plotly.express as px "
   ]
  },
  {
   "cell_type": "code",
   "execution_count": 2,
   "id": "47eb65d8",
   "metadata": {
    "execution": {
     "iopub.execute_input": "2023-05-31T14:20:56.641448Z",
     "iopub.status.busy": "2023-05-31T14:20:56.640396Z",
     "iopub.status.idle": "2023-05-31T14:20:56.703491Z",
     "shell.execute_reply": "2023-05-31T14:20:56.702607Z"
    },
    "papermill": {
     "duration": 0.072168,
     "end_time": "2023-05-31T14:20:56.705587",
     "exception": false,
     "start_time": "2023-05-31T14:20:56.633419",
     "status": "completed"
    },
    "tags": []
   },
   "outputs": [
    {
     "data": {
      "text/html": [
       "<div>\n",
       "<style scoped>\n",
       "    .dataframe tbody tr th:only-of-type {\n",
       "        vertical-align: middle;\n",
       "    }\n",
       "\n",
       "    .dataframe tbody tr th {\n",
       "        vertical-align: top;\n",
       "    }\n",
       "\n",
       "    .dataframe thead th {\n",
       "        text-align: right;\n",
       "    }\n",
       "</style>\n",
       "<table border=\"1\" class=\"dataframe\">\n",
       "  <thead>\n",
       "    <tr style=\"text-align: right;\">\n",
       "      <th></th>\n",
       "      <th>Team_1</th>\n",
       "      <th>Team_2</th>\n",
       "      <th>Winner</th>\n",
       "      <th>Margin</th>\n",
       "      <th>Ground</th>\n",
       "      <th>Match Date</th>\n",
       "    </tr>\n",
       "  </thead>\n",
       "  <tbody>\n",
       "    <tr>\n",
       "      <th>1739</th>\n",
       "      <td>Sri Lanka</td>\n",
       "      <td>India</td>\n",
       "      <td>India</td>\n",
       "      <td>7 wickets</td>\n",
       "      <td>Colombo (RPS)</td>\n",
       "      <td>Jul 28, 2001</td>\n",
       "    </tr>\n",
       "    <tr>\n",
       "      <th>4279</th>\n",
       "      <td>New Zealand</td>\n",
       "      <td>Bangladesh</td>\n",
       "      <td>New Zealand</td>\n",
       "      <td>5 wickets</td>\n",
       "      <td>Christchurch</td>\n",
       "      <td>Mar 23, 2021</td>\n",
       "    </tr>\n",
       "    <tr>\n",
       "      <th>2533</th>\n",
       "      <td>Bermuda</td>\n",
       "      <td>Sri Lanka</td>\n",
       "      <td>Sri Lanka</td>\n",
       "      <td>243 runs</td>\n",
       "      <td>Port of Spain</td>\n",
       "      <td>Mar 15, 2007</td>\n",
       "    </tr>\n",
       "    <tr>\n",
       "      <th>3195</th>\n",
       "      <td>Ireland</td>\n",
       "      <td>Canada</td>\n",
       "      <td>Ireland</td>\n",
       "      <td>133 runs</td>\n",
       "      <td>Dublin</td>\n",
       "      <td>Sep 19, 2011</td>\n",
       "    </tr>\n",
       "    <tr>\n",
       "      <th>1651</th>\n",
       "      <td>India</td>\n",
       "      <td>Sri Lanka</td>\n",
       "      <td>Sri Lanka</td>\n",
       "      <td>245 runs</td>\n",
       "      <td>Sharjah</td>\n",
       "      <td>Oct 29, 2000</td>\n",
       "    </tr>\n",
       "    <tr>\n",
       "      <th>1852</th>\n",
       "      <td>England</td>\n",
       "      <td>Sri Lanka</td>\n",
       "      <td>Sri Lanka</td>\n",
       "      <td>23 runs</td>\n",
       "      <td>Manchester</td>\n",
       "      <td>Jul 7, 2002</td>\n",
       "    </tr>\n",
       "    <tr>\n",
       "      <th>2348</th>\n",
       "      <td>South Africa</td>\n",
       "      <td>Australia</td>\n",
       "      <td>South Africa</td>\n",
       "      <td>1 wicket</td>\n",
       "      <td>Johannesburg</td>\n",
       "      <td>Mar 12, 2006</td>\n",
       "    </tr>\n",
       "    <tr>\n",
       "      <th>4438</th>\n",
       "      <td>West Indies</td>\n",
       "      <td>India</td>\n",
       "      <td>India</td>\n",
       "      <td>119 runs</td>\n",
       "      <td>Port of Spain</td>\n",
       "      <td>Jul 27, 2022</td>\n",
       "    </tr>\n",
       "    <tr>\n",
       "      <th>3085</th>\n",
       "      <td>Australia</td>\n",
       "      <td>England</td>\n",
       "      <td>Australia</td>\n",
       "      <td>4 wickets</td>\n",
       "      <td>Sydney</td>\n",
       "      <td>Jan 23, 2011</td>\n",
       "    </tr>\n",
       "    <tr>\n",
       "      <th>827</th>\n",
       "      <td>West Indies</td>\n",
       "      <td>Pakistan</td>\n",
       "      <td>Pakistan</td>\n",
       "      <td>38 runs</td>\n",
       "      <td>Kingstown</td>\n",
       "      <td>Mar 30, 1993</td>\n",
       "    </tr>\n",
       "  </tbody>\n",
       "</table>\n",
       "</div>"
      ],
      "text/plain": [
       "            Team_1      Team_2        Winner     Margin         Ground  \\\n",
       "1739     Sri Lanka       India         India  7 wickets  Colombo (RPS)   \n",
       "4279   New Zealand  Bangladesh   New Zealand  5 wickets   Christchurch   \n",
       "2533       Bermuda   Sri Lanka     Sri Lanka   243 runs  Port of Spain   \n",
       "3195       Ireland      Canada       Ireland   133 runs         Dublin   \n",
       "1651         India   Sri Lanka     Sri Lanka   245 runs        Sharjah   \n",
       "1852       England   Sri Lanka     Sri Lanka    23 runs     Manchester   \n",
       "2348  South Africa   Australia  South Africa   1 wicket   Johannesburg   \n",
       "4438   West Indies       India         India   119 runs  Port of Spain   \n",
       "3085     Australia     England     Australia  4 wickets         Sydney   \n",
       "827    West Indies    Pakistan      Pakistan    38 runs      Kingstown   \n",
       "\n",
       "        Match Date  \n",
       "1739  Jul 28, 2001  \n",
       "4279  Mar 23, 2021  \n",
       "2533  Mar 15, 2007  \n",
       "3195  Sep 19, 2011  \n",
       "1651  Oct 29, 2000  \n",
       "1852   Jul 7, 2002  \n",
       "2348  Mar 12, 2006  \n",
       "4438  Jul 27, 2022  \n",
       "3085  Jan 23, 2011  \n",
       "827   Mar 30, 1993  "
      ]
     },
     "execution_count": 2,
     "metadata": {},
     "output_type": "execute_result"
    }
   ],
   "source": [
    "df=pd.read_csv('/kaggle/input/odi-matches-dataset-2000-2010/ODI.csv')\n",
    "df=df.drop(columns=['Unnamed: 0'])\n",
    "df.sample(10)"
   ]
  },
  {
   "cell_type": "code",
   "execution_count": 3,
   "id": "f73704d4",
   "metadata": {
    "execution": {
     "iopub.execute_input": "2023-05-31T14:20:56.718950Z",
     "iopub.status.busy": "2023-05-31T14:20:56.718650Z",
     "iopub.status.idle": "2023-05-31T14:20:56.724486Z",
     "shell.execute_reply": "2023-05-31T14:20:56.723660Z"
    },
    "papermill": {
     "duration": 0.01476,
     "end_time": "2023-05-31T14:20:56.726630",
     "exception": false,
     "start_time": "2023-05-31T14:20:56.711870",
     "status": "completed"
    },
    "tags": []
   },
   "outputs": [
    {
     "data": {
      "text/plain": [
       "(4578, 6)"
      ]
     },
     "execution_count": 3,
     "metadata": {},
     "output_type": "execute_result"
    }
   ],
   "source": [
    "df.shape"
   ]
  },
  {
   "cell_type": "code",
   "execution_count": 4,
   "id": "57e29f06",
   "metadata": {
    "execution": {
     "iopub.execute_input": "2023-05-31T14:20:56.739625Z",
     "iopub.status.busy": "2023-05-31T14:20:56.739301Z",
     "iopub.status.idle": "2023-05-31T14:20:56.764851Z",
     "shell.execute_reply": "2023-05-31T14:20:56.763881Z"
    },
    "papermill": {
     "duration": 0.033996,
     "end_time": "2023-05-31T14:20:56.766699",
     "exception": false,
     "start_time": "2023-05-31T14:20:56.732703",
     "status": "completed"
    },
    "tags": []
   },
   "outputs": [
    {
     "name": "stdout",
     "output_type": "stream",
     "text": [
      "<class 'pandas.core.frame.DataFrame'>\n",
      "RangeIndex: 4578 entries, 0 to 4577\n",
      "Data columns (total 6 columns):\n",
      " #   Column      Non-Null Count  Dtype \n",
      "---  ------      --------------  ----- \n",
      " 0   Team_1      4578 non-null   object\n",
      " 1   Team_2      4578 non-null   object\n",
      " 2   Winner      4578 non-null   object\n",
      " 3   Margin      4578 non-null   object\n",
      " 4   Ground      4578 non-null   object\n",
      " 5   Match Date  4578 non-null   object\n",
      "dtypes: object(6)\n",
      "memory usage: 214.7+ KB\n"
     ]
    }
   ],
   "source": [
    "df.info()"
   ]
  },
  {
   "cell_type": "code",
   "execution_count": 5,
   "id": "2444760c",
   "metadata": {
    "execution": {
     "iopub.execute_input": "2023-05-31T14:20:56.780412Z",
     "iopub.status.busy": "2023-05-31T14:20:56.779510Z",
     "iopub.status.idle": "2023-05-31T14:20:56.791452Z",
     "shell.execute_reply": "2023-05-31T14:20:56.790715Z"
    },
    "papermill": {
     "duration": 0.020274,
     "end_time": "2023-05-31T14:20:56.793177",
     "exception": false,
     "start_time": "2023-05-31T14:20:56.772903",
     "status": "completed"
    },
    "tags": []
   },
   "outputs": [
    {
     "data": {
      "text/plain": [
       "Team_1          28\n",
       "Team_2          28\n",
       "Winner          30\n",
       "Margin         239\n",
       "Ground         188\n",
       "Match Date    3903\n",
       "dtype: int64"
      ]
     },
     "execution_count": 5,
     "metadata": {},
     "output_type": "execute_result"
    }
   ],
   "source": [
    "df.nunique()"
   ]
  },
  {
   "cell_type": "code",
   "execution_count": 6,
   "id": "b60acc68",
   "metadata": {
    "execution": {
     "iopub.execute_input": "2023-05-31T14:20:56.806747Z",
     "iopub.status.busy": "2023-05-31T14:20:56.806241Z",
     "iopub.status.idle": "2023-05-31T14:20:56.812593Z",
     "shell.execute_reply": "2023-05-31T14:20:56.811672Z"
    },
    "papermill": {
     "duration": 0.015573,
     "end_time": "2023-05-31T14:20:56.814667",
     "exception": false,
     "start_time": "2023-05-31T14:20:56.799094",
     "status": "completed"
    },
    "tags": []
   },
   "outputs": [
    {
     "data": {
      "text/plain": [
       "array(['Australia', 'England', 'New Zealand', 'no result', 'West Indies',\n",
       "       'Pakistan', 'India', 'Sri Lanka', 'Zimbabwe', 'tied',\n",
       "       'South Africa', 'Kenya', 'U.A.E.', 'Bangladesh', 'Canada',\n",
       "       'Netherlands', 'ICC World XI', 'Africa XI', 'Asia XI', 'Bermuda',\n",
       "       'Ireland', 'Scotland', 'Afghanistan', 'P.N.G.', 'Hong Kong',\n",
       "       'Nepal', 'Namibia', 'Oman', 'U.S.A.', 'Jersey'], dtype=object)"
      ]
     },
     "execution_count": 6,
     "metadata": {},
     "output_type": "execute_result"
    }
   ],
   "source": [
    "df.Winner.unique()"
   ]
  },
  {
   "cell_type": "code",
   "execution_count": 7,
   "id": "3c27619f",
   "metadata": {
    "execution": {
     "iopub.execute_input": "2023-05-31T14:20:56.829378Z",
     "iopub.status.busy": "2023-05-31T14:20:56.829089Z",
     "iopub.status.idle": "2023-05-31T14:20:56.835436Z",
     "shell.execute_reply": "2023-05-31T14:20:56.834602Z"
    },
    "papermill": {
     "duration": 0.015245,
     "end_time": "2023-05-31T14:20:56.837269",
     "exception": false,
     "start_time": "2023-05-31T14:20:56.822024",
     "status": "completed"
    },
    "tags": []
   },
   "outputs": [
    {
     "data": {
      "text/plain": [
       "array(['Australia', 'England', 'New Zealand', 'East Africa', 'Sri Lanka',\n",
       "       'Pakistan', 'India', 'West Indies', 'Canada', 'Bangladesh',\n",
       "       'South Africa', 'Zimbabwe', 'U.A.E.', 'Netherlands', 'Kenya',\n",
       "       'Scotland', 'Namibia', 'Hong Kong', 'Asia XI', 'Africa XI',\n",
       "       'Bermuda', 'Ireland', 'Afghanistan', 'P.N.G.', 'Nepal', 'Oman',\n",
       "       'U.S.A.', 'Jersey'], dtype=object)"
      ]
     },
     "execution_count": 7,
     "metadata": {},
     "output_type": "execute_result"
    }
   ],
   "source": [
    "df.Team_1.unique()"
   ]
  },
  {
   "cell_type": "markdown",
   "id": "3e214eaf",
   "metadata": {
    "papermill": {
     "duration": 0.006042,
     "end_time": "2023-05-31T14:20:56.849578",
     "exception": false,
     "start_time": "2023-05-31T14:20:56.843536",
     "status": "completed"
    },
    "tags": []
   },
   "source": [
    "# No of Matches Played by each Team"
   ]
  },
  {
   "cell_type": "code",
   "execution_count": 8,
   "id": "cc756eea",
   "metadata": {
    "execution": {
     "iopub.execute_input": "2023-05-31T14:20:56.862899Z",
     "iopub.status.busy": "2023-05-31T14:20:56.862603Z",
     "iopub.status.idle": "2023-05-31T14:20:58.275816Z",
     "shell.execute_reply": "2023-05-31T14:20:58.274856Z"
    },
    "papermill": {
     "duration": 1.422306,
     "end_time": "2023-05-31T14:20:58.277977",
     "exception": false,
     "start_time": "2023-05-31T14:20:56.855671",
     "status": "completed"
    },
    "tags": []
   },
   "outputs": [
    {
     "data": {
      "text/html": [
       "        <script type=\"text/javascript\">\n",
       "        window.PlotlyConfig = {MathJaxConfig: 'local'};\n",
       "        if (window.MathJax && window.MathJax.Hub && window.MathJax.Hub.Config) {window.MathJax.Hub.Config({SVG: {font: \"STIX-Web\"}});}\n",
       "        if (typeof require !== 'undefined') {\n",
       "        require.undef(\"plotly\");\n",
       "        requirejs.config({\n",
       "            paths: {\n",
       "                'plotly': ['https://cdn.plot.ly/plotly-2.20.0.min']\n",
       "            }\n",
       "        });\n",
       "        require(['plotly'], function(Plotly) {\n",
       "            window._Plotly = Plotly;\n",
       "        });\n",
       "        }\n",
       "        </script>\n",
       "        "
      ]
     },
     "metadata": {},
     "output_type": "display_data"
    },
    {
     "data": {
      "text/html": [
       "<div>                            <div id=\"c8f0672a-87c5-4302-8b22-c2242ea54acc\" class=\"plotly-graph-div\" style=\"height:525px; width:100%;\"></div>            <script type=\"text/javascript\">                require([\"plotly\"], function(Plotly) {                    window.PLOTLYENV=window.PLOTLYENV || {};                                    if (document.getElementById(\"c8f0672a-87c5-4302-8b22-c2242ea54acc\")) {                    Plotly.newPlot(                        \"c8f0672a-87c5-4302-8b22-c2242ea54acc\",                        [{\"alignmentgroup\":\"True\",\"hovertemplate\":\"Teams=%{x}<br>count=%{y}<extra></extra>\",\"legendgroup\":\"\",\"marker\":{\"color\":\"#636efa\",\"pattern\":{\"shape\":\"\"}},\"name\":\"\",\"offsetgroup\":\"\",\"orientation\":\"v\",\"showlegend\":false,\"textposition\":\"auto\",\"x\":[\"India\",\"Australia\",\"Pakistan\",\"Sri Lanka\",\"West Indies\",\"New Zealand\",\"England\",\"South Africa\",\"Zimbabwe\",\"Bangladesh\",\"Ireland\",\"Kenya\",\"Scotland\",\"Afghanistan\",\"Netherlands\",\"U.A.E.\",\"Canada\",\"P.N.G.\",\"Nepal\",\"Namibia\",\"U.S.A.\",\"Oman\",\"Bermuda\",\"Hong Kong\",\"Asia XI\",\"Africa XI\",\"Jersey\",\"ICC World XI\",\"East Africa\"],\"xaxis\":\"x\",\"y\":[1029.0,978.0,953.0,883.0,854.0,804.0,779.0,654.0,559.0,412.0,188.0,154.0,146.0,141.0,106.0,99.0,82.0,66.0,51.0,48.0,45.0,39.0,35.0,26.0,7.0,6.0,5.0,4.0,3.0],\"yaxis\":\"y\",\"type\":\"bar\"}],                        {\"template\":{\"data\":{\"histogram2dcontour\":[{\"type\":\"histogram2dcontour\",\"colorbar\":{\"outlinewidth\":0,\"ticks\":\"\"},\"colorscale\":[[0.0,\"#0d0887\"],[0.1111111111111111,\"#46039f\"],[0.2222222222222222,\"#7201a8\"],[0.3333333333333333,\"#9c179e\"],[0.4444444444444444,\"#bd3786\"],[0.5555555555555556,\"#d8576b\"],[0.6666666666666666,\"#ed7953\"],[0.7777777777777778,\"#fb9f3a\"],[0.8888888888888888,\"#fdca26\"],[1.0,\"#f0f921\"]]}],\"choropleth\":[{\"type\":\"choropleth\",\"colorbar\":{\"outlinewidth\":0,\"ticks\":\"\"}}],\"histogram2d\":[{\"type\":\"histogram2d\",\"colorbar\":{\"outlinewidth\":0,\"ticks\":\"\"},\"colorscale\":[[0.0,\"#0d0887\"],[0.1111111111111111,\"#46039f\"],[0.2222222222222222,\"#7201a8\"],[0.3333333333333333,\"#9c179e\"],[0.4444444444444444,\"#bd3786\"],[0.5555555555555556,\"#d8576b\"],[0.6666666666666666,\"#ed7953\"],[0.7777777777777778,\"#fb9f3a\"],[0.8888888888888888,\"#fdca26\"],[1.0,\"#f0f921\"]]}],\"heatmap\":[{\"type\":\"heatmap\",\"colorbar\":{\"outlinewidth\":0,\"ticks\":\"\"},\"colorscale\":[[0.0,\"#0d0887\"],[0.1111111111111111,\"#46039f\"],[0.2222222222222222,\"#7201a8\"],[0.3333333333333333,\"#9c179e\"],[0.4444444444444444,\"#bd3786\"],[0.5555555555555556,\"#d8576b\"],[0.6666666666666666,\"#ed7953\"],[0.7777777777777778,\"#fb9f3a\"],[0.8888888888888888,\"#fdca26\"],[1.0,\"#f0f921\"]]}],\"heatmapgl\":[{\"type\":\"heatmapgl\",\"colorbar\":{\"outlinewidth\":0,\"ticks\":\"\"},\"colorscale\":[[0.0,\"#0d0887\"],[0.1111111111111111,\"#46039f\"],[0.2222222222222222,\"#7201a8\"],[0.3333333333333333,\"#9c179e\"],[0.4444444444444444,\"#bd3786\"],[0.5555555555555556,\"#d8576b\"],[0.6666666666666666,\"#ed7953\"],[0.7777777777777778,\"#fb9f3a\"],[0.8888888888888888,\"#fdca26\"],[1.0,\"#f0f921\"]]}],\"contourcarpet\":[{\"type\":\"contourcarpet\",\"colorbar\":{\"outlinewidth\":0,\"ticks\":\"\"}}],\"contour\":[{\"type\":\"contour\",\"colorbar\":{\"outlinewidth\":0,\"ticks\":\"\"},\"colorscale\":[[0.0,\"#0d0887\"],[0.1111111111111111,\"#46039f\"],[0.2222222222222222,\"#7201a8\"],[0.3333333333333333,\"#9c179e\"],[0.4444444444444444,\"#bd3786\"],[0.5555555555555556,\"#d8576b\"],[0.6666666666666666,\"#ed7953\"],[0.7777777777777778,\"#fb9f3a\"],[0.8888888888888888,\"#fdca26\"],[1.0,\"#f0f921\"]]}],\"surface\":[{\"type\":\"surface\",\"colorbar\":{\"outlinewidth\":0,\"ticks\":\"\"},\"colorscale\":[[0.0,\"#0d0887\"],[0.1111111111111111,\"#46039f\"],[0.2222222222222222,\"#7201a8\"],[0.3333333333333333,\"#9c179e\"],[0.4444444444444444,\"#bd3786\"],[0.5555555555555556,\"#d8576b\"],[0.6666666666666666,\"#ed7953\"],[0.7777777777777778,\"#fb9f3a\"],[0.8888888888888888,\"#fdca26\"],[1.0,\"#f0f921\"]]}],\"mesh3d\":[{\"type\":\"mesh3d\",\"colorbar\":{\"outlinewidth\":0,\"ticks\":\"\"}}],\"scatter\":[{\"fillpattern\":{\"fillmode\":\"overlay\",\"size\":10,\"solidity\":0.2},\"type\":\"scatter\"}],\"parcoords\":[{\"type\":\"parcoords\",\"line\":{\"colorbar\":{\"outlinewidth\":0,\"ticks\":\"\"}}}],\"scatterpolargl\":[{\"type\":\"scatterpolargl\",\"marker\":{\"colorbar\":{\"outlinewidth\":0,\"ticks\":\"\"}}}],\"bar\":[{\"error_x\":{\"color\":\"#2a3f5f\"},\"error_y\":{\"color\":\"#2a3f5f\"},\"marker\":{\"line\":{\"color\":\"#E5ECF6\",\"width\":0.5},\"pattern\":{\"fillmode\":\"overlay\",\"size\":10,\"solidity\":0.2}},\"type\":\"bar\"}],\"scattergeo\":[{\"type\":\"scattergeo\",\"marker\":{\"colorbar\":{\"outlinewidth\":0,\"ticks\":\"\"}}}],\"scatterpolar\":[{\"type\":\"scatterpolar\",\"marker\":{\"colorbar\":{\"outlinewidth\":0,\"ticks\":\"\"}}}],\"histogram\":[{\"marker\":{\"pattern\":{\"fillmode\":\"overlay\",\"size\":10,\"solidity\":0.2}},\"type\":\"histogram\"}],\"scattergl\":[{\"type\":\"scattergl\",\"marker\":{\"colorbar\":{\"outlinewidth\":0,\"ticks\":\"\"}}}],\"scatter3d\":[{\"type\":\"scatter3d\",\"line\":{\"colorbar\":{\"outlinewidth\":0,\"ticks\":\"\"}},\"marker\":{\"colorbar\":{\"outlinewidth\":0,\"ticks\":\"\"}}}],\"scattermapbox\":[{\"type\":\"scattermapbox\",\"marker\":{\"colorbar\":{\"outlinewidth\":0,\"ticks\":\"\"}}}],\"scatterternary\":[{\"type\":\"scatterternary\",\"marker\":{\"colorbar\":{\"outlinewidth\":0,\"ticks\":\"\"}}}],\"scattercarpet\":[{\"type\":\"scattercarpet\",\"marker\":{\"colorbar\":{\"outlinewidth\":0,\"ticks\":\"\"}}}],\"carpet\":[{\"aaxis\":{\"endlinecolor\":\"#2a3f5f\",\"gridcolor\":\"white\",\"linecolor\":\"white\",\"minorgridcolor\":\"white\",\"startlinecolor\":\"#2a3f5f\"},\"baxis\":{\"endlinecolor\":\"#2a3f5f\",\"gridcolor\":\"white\",\"linecolor\":\"white\",\"minorgridcolor\":\"white\",\"startlinecolor\":\"#2a3f5f\"},\"type\":\"carpet\"}],\"table\":[{\"cells\":{\"fill\":{\"color\":\"#EBF0F8\"},\"line\":{\"color\":\"white\"}},\"header\":{\"fill\":{\"color\":\"#C8D4E3\"},\"line\":{\"color\":\"white\"}},\"type\":\"table\"}],\"barpolar\":[{\"marker\":{\"line\":{\"color\":\"#E5ECF6\",\"width\":0.5},\"pattern\":{\"fillmode\":\"overlay\",\"size\":10,\"solidity\":0.2}},\"type\":\"barpolar\"}],\"pie\":[{\"automargin\":true,\"type\":\"pie\"}]},\"layout\":{\"autotypenumbers\":\"strict\",\"colorway\":[\"#636efa\",\"#EF553B\",\"#00cc96\",\"#ab63fa\",\"#FFA15A\",\"#19d3f3\",\"#FF6692\",\"#B6E880\",\"#FF97FF\",\"#FECB52\"],\"font\":{\"color\":\"#2a3f5f\"},\"hovermode\":\"closest\",\"hoverlabel\":{\"align\":\"left\"},\"paper_bgcolor\":\"white\",\"plot_bgcolor\":\"#E5ECF6\",\"polar\":{\"bgcolor\":\"#E5ECF6\",\"angularaxis\":{\"gridcolor\":\"white\",\"linecolor\":\"white\",\"ticks\":\"\"},\"radialaxis\":{\"gridcolor\":\"white\",\"linecolor\":\"white\",\"ticks\":\"\"}},\"ternary\":{\"bgcolor\":\"#E5ECF6\",\"aaxis\":{\"gridcolor\":\"white\",\"linecolor\":\"white\",\"ticks\":\"\"},\"baxis\":{\"gridcolor\":\"white\",\"linecolor\":\"white\",\"ticks\":\"\"},\"caxis\":{\"gridcolor\":\"white\",\"linecolor\":\"white\",\"ticks\":\"\"}},\"coloraxis\":{\"colorbar\":{\"outlinewidth\":0,\"ticks\":\"\"}},\"colorscale\":{\"sequential\":[[0.0,\"#0d0887\"],[0.1111111111111111,\"#46039f\"],[0.2222222222222222,\"#7201a8\"],[0.3333333333333333,\"#9c179e\"],[0.4444444444444444,\"#bd3786\"],[0.5555555555555556,\"#d8576b\"],[0.6666666666666666,\"#ed7953\"],[0.7777777777777778,\"#fb9f3a\"],[0.8888888888888888,\"#fdca26\"],[1.0,\"#f0f921\"]],\"sequentialminus\":[[0.0,\"#0d0887\"],[0.1111111111111111,\"#46039f\"],[0.2222222222222222,\"#7201a8\"],[0.3333333333333333,\"#9c179e\"],[0.4444444444444444,\"#bd3786\"],[0.5555555555555556,\"#d8576b\"],[0.6666666666666666,\"#ed7953\"],[0.7777777777777778,\"#fb9f3a\"],[0.8888888888888888,\"#fdca26\"],[1.0,\"#f0f921\"]],\"diverging\":[[0,\"#8e0152\"],[0.1,\"#c51b7d\"],[0.2,\"#de77ae\"],[0.3,\"#f1b6da\"],[0.4,\"#fde0ef\"],[0.5,\"#f7f7f7\"],[0.6,\"#e6f5d0\"],[0.7,\"#b8e186\"],[0.8,\"#7fbc41\"],[0.9,\"#4d9221\"],[1,\"#276419\"]]},\"xaxis\":{\"gridcolor\":\"white\",\"linecolor\":\"white\",\"ticks\":\"\",\"title\":{\"standoff\":15},\"zerolinecolor\":\"white\",\"automargin\":true,\"zerolinewidth\":2},\"yaxis\":{\"gridcolor\":\"white\",\"linecolor\":\"white\",\"ticks\":\"\",\"title\":{\"standoff\":15},\"zerolinecolor\":\"white\",\"automargin\":true,\"zerolinewidth\":2},\"scene\":{\"xaxis\":{\"backgroundcolor\":\"#E5ECF6\",\"gridcolor\":\"white\",\"linecolor\":\"white\",\"showbackground\":true,\"ticks\":\"\",\"zerolinecolor\":\"white\",\"gridwidth\":2},\"yaxis\":{\"backgroundcolor\":\"#E5ECF6\",\"gridcolor\":\"white\",\"linecolor\":\"white\",\"showbackground\":true,\"ticks\":\"\",\"zerolinecolor\":\"white\",\"gridwidth\":2},\"zaxis\":{\"backgroundcolor\":\"#E5ECF6\",\"gridcolor\":\"white\",\"linecolor\":\"white\",\"showbackground\":true,\"ticks\":\"\",\"zerolinecolor\":\"white\",\"gridwidth\":2}},\"shapedefaults\":{\"line\":{\"color\":\"#2a3f5f\"}},\"annotationdefaults\":{\"arrowcolor\":\"#2a3f5f\",\"arrowhead\":0,\"arrowwidth\":1},\"geo\":{\"bgcolor\":\"white\",\"landcolor\":\"#E5ECF6\",\"subunitcolor\":\"white\",\"showland\":true,\"showlakes\":true,\"lakecolor\":\"white\"},\"title\":{\"x\":0.05},\"mapbox\":{\"style\":\"light\"}}},\"xaxis\":{\"anchor\":\"y\",\"domain\":[0.0,1.0],\"title\":{\"text\":\"Teams\"}},\"yaxis\":{\"anchor\":\"x\",\"domain\":[0.0,1.0],\"title\":{\"text\":\"count\"}},\"legend\":{\"tracegroupgap\":0},\"margin\":{\"t\":60},\"barmode\":\"relative\"},                        {\"responsive\": true}                    ).then(function(){\n",
       "                            \n",
       "var gd = document.getElementById('c8f0672a-87c5-4302-8b22-c2242ea54acc');\n",
       "var x = new MutationObserver(function (mutations, observer) {{\n",
       "        var display = window.getComputedStyle(gd).display;\n",
       "        if (!display || display === 'none') {{\n",
       "            console.log([gd, 'removed!']);\n",
       "            Plotly.purge(gd);\n",
       "            observer.disconnect();\n",
       "        }}\n",
       "}});\n",
       "\n",
       "// Listen for the removal of the full notebook cells\n",
       "var notebookContainer = gd.closest('#notebook-container');\n",
       "if (notebookContainer) {{\n",
       "    x.observe(notebookContainer, {childList: true});\n",
       "}}\n",
       "\n",
       "// Listen for the clearing of the current output cell\n",
       "var outputEl = gd.closest('.output');\n",
       "if (outputEl) {{\n",
       "    x.observe(outputEl, {childList: true});\n",
       "}}\n",
       "\n",
       "                        })                };                });            </script>        </div>"
      ]
     },
     "metadata": {},
     "output_type": "display_data"
    }
   ],
   "source": [
    "team1=df.Team_1.value_counts()\n",
    "team2=df.Team_2.value_counts()\n",
    "teams=team1+team2\n",
    "teams['Africa XI']=team1['Africa XI']\n",
    "teams['ICC World XI']=team2['ICC World XI']\n",
    "teams=pd.DataFrame(teams)\n",
    "teams['count']=teams\n",
    "teams['Teams']=teams.index\n",
    "teams.reset_index(drop=True,inplace=True)\n",
    "teams=teams.sort_values('count',ascending=False)\n",
    "fig = px.bar(teams, x=\"Teams\", y=\"count\") \n",
    "fig.show()"
   ]
  },
  {
   "cell_type": "markdown",
   "id": "e26ade8a",
   "metadata": {
    "papermill": {
     "duration": 0.006961,
     "end_time": "2023-05-31T14:20:58.292641",
     "exception": false,
     "start_time": "2023-05-31T14:20:58.285680",
     "status": "completed"
    },
    "tags": []
   },
   "source": [
    "# Chasing vs Defending"
   ]
  },
  {
   "cell_type": "code",
   "execution_count": 9,
   "id": "e5cb814b",
   "metadata": {
    "execution": {
     "iopub.execute_input": "2023-05-31T14:20:58.308272Z",
     "iopub.status.busy": "2023-05-31T14:20:58.307860Z",
     "iopub.status.idle": "2023-05-31T14:20:58.323265Z",
     "shell.execute_reply": "2023-05-31T14:20:58.322182Z"
    },
    "papermill": {
     "duration": 0.025795,
     "end_time": "2023-05-31T14:20:58.325518",
     "exception": false,
     "start_time": "2023-05-31T14:20:58.299723",
     "status": "completed"
    },
    "tags": []
   },
   "outputs": [],
   "source": [
    "By=[]\n",
    "runs=[]\n",
    "wickets=[]\n",
    "for i in df['Margin']:\n",
    "    \n",
    "    margin=i.split(' ')\n",
    "    \n",
    "    if(len(margin)==2 and (margin[1]=='runs' or margin[1]=='run')):\n",
    "        By.append('Defending')\n",
    "        runs.append(int(margin[0]))\n",
    "    elif(len(margin)==2 and (margin[1]=='wickets' or margin[1]=='wicket')):\n",
    "        By.append('Chasing')\n",
    "        wickets.append(int(margin[0]))\n",
    "    else:\n",
    "        By.append('Tied')\n",
    "\n",
    "df['Wonby']=By"
   ]
  },
  {
   "cell_type": "code",
   "execution_count": 10,
   "id": "1b6f033f",
   "metadata": {
    "execution": {
     "iopub.execute_input": "2023-05-31T14:20:58.340942Z",
     "iopub.status.busy": "2023-05-31T14:20:58.340570Z",
     "iopub.status.idle": "2023-05-31T14:20:58.665648Z",
     "shell.execute_reply": "2023-05-31T14:20:58.664034Z"
    },
    "papermill": {
     "duration": 0.33524,
     "end_time": "2023-05-31T14:20:58.667868",
     "exception": false,
     "start_time": "2023-05-31T14:20:58.332628",
     "status": "completed"
    },
    "tags": []
   },
   "outputs": [
    {
     "data": {
      "text/plain": [
       "<Axes: xlabel='count', ylabel='Wonby'>"
      ]
     },
     "execution_count": 10,
     "metadata": {},
     "output_type": "execute_result"
    },
    {
     "data": {
      "image/png": "[encoded data removed]",
      "text/plain": [
       "<Figure size 640x480 with 1 Axes>"
      ]
     },
     "metadata": {},
     "output_type": "display_data"
    }
   ],
   "source": [
    "sns.set(style='darkgrid')\n",
    "sns.countplot(y='Wonby',data=df,order = df['Wonby'].value_counts().index)"
   ]
  },
  {
   "cell_type": "markdown",
   "id": "1d8c6379",
   "metadata": {
    "papermill": {
     "duration": 0.007215,
     "end_time": "2023-05-31T14:20:58.687067",
     "exception": false,
     "start_time": "2023-05-31T14:20:58.679852",
     "status": "completed"
    },
    "tags": []
   },
   "source": [
    "# Most Wins"
   ]
  },
  {
   "cell_type": "code",
   "execution_count": 11,
   "id": "fc2c528c",
   "metadata": {
    "execution": {
     "iopub.execute_input": "2023-05-31T14:20:58.703106Z",
     "iopub.status.busy": "2023-05-31T14:20:58.702761Z",
     "iopub.status.idle": "2023-05-31T14:20:59.410588Z",
     "shell.execute_reply": "2023-05-31T14:20:59.409612Z"
    },
    "papermill": {
     "duration": 0.718651,
     "end_time": "2023-05-31T14:20:59.412860",
     "exception": false,
     "start_time": "2023-05-31T14:20:58.694209",
     "status": "completed"
    },
    "tags": []
   },
   "outputs": [
    {
     "data": {
      "text/plain": [
       "<Axes: xlabel='count', ylabel='Winner'>"
      ]
     },
     "execution_count": 11,
     "metadata": {},
     "output_type": "execute_result"
    },
    {
     "data": {
      "image/png": "[encoded data removed]",
      "text/plain": [
       "<Figure size 640x480 with 1 Axes>"
      ]
     },
     "metadata": {},
     "output_type": "display_data"
    }
   ],
   "source": [
    "sns.set(style='darkgrid')\n",
    "sns.countplot(y='Winner',data=df,order = df['Winner'].value_counts().index)"
   ]
  },
  {
   "cell_type": "markdown",
   "id": "3f253eb2",
   "metadata": {
    "papermill": {
     "duration": 0.007771,
     "end_time": "2023-05-31T14:20:59.429173",
     "exception": false,
     "start_time": "2023-05-31T14:20:59.421402",
     "status": "completed"
    },
    "tags": []
   },
   "source": [
    "# Top Venues"
   ]
  },
  {
   "cell_type": "code",
   "execution_count": 12,
   "id": "04484af1",
   "metadata": {
    "execution": {
     "iopub.execute_input": "2023-05-31T14:20:59.446891Z",
     "iopub.status.busy": "2023-05-31T14:20:59.446509Z",
     "iopub.status.idle": "2023-05-31T14:20:59.510082Z",
     "shell.execute_reply": "2023-05-31T14:20:59.509141Z"
    },
    "papermill": {
     "duration": 0.074601,
     "end_time": "2023-05-31T14:20:59.512144",
     "exception": false,
     "start_time": "2023-05-31T14:20:59.437543",
     "status": "completed"
    },
    "tags": []
   },
   "outputs": [
    {
     "data": {
      "text/html": [
       "<div>                            <div id=\"3eab7b5c-8da4-4e44-82cc-67f7e5bdcc27\" class=\"plotly-graph-div\" style=\"height:525px; width:100%;\"></div>            <script type=\"text/javascript\">                require([\"plotly\"], function(Plotly) {                    window.PLOTLYENV=window.PLOTLYENV || {};                                    if (document.getElementById(\"3eab7b5c-8da4-4e44-82cc-67f7e5bdcc27\")) {                    Plotly.newPlot(                        \"3eab7b5c-8da4-4e44-82cc-67f7e5bdcc27\",                        [{\"alignmentgroup\":\"True\",\"hovertemplate\":\"Grounds=%{x}<br>Ground=%{y}<extra></extra>\",\"legendgroup\":\"\",\"marker\":{\"color\":\"#636efa\",\"pattern\":{\"shape\":\"\"}},\"name\":\"\",\"offsetgroup\":\"\",\"orientation\":\"v\",\"showlegend\":false,\"textposition\":\"auto\",\"x\":[\"Sharjah\",\"Harare\",\"Sydney\",\"Melbourne\",\"Colombo (RPS)\",\"Mirpur\",\"Adelaide\",\"Bulawayo\",\"Perth\",\"Auckland\",\"Brisbane\",\"The Oval\",\"Port of Spain\",\"Lord's\",\"Lahore\",\"Birmingham\",\"Christchurch\",\"Nairobi (Gym)\",\"Colombo (SSC)\",\"Wellington\",\"Centurion\",\"Dhaka\",\"Manchester\",\"Dambulla\",\"Karachi\"],\"xaxis\":\"x\",\"y\":[244,174,160,150,138,117,86,84,82,79,78,75,72,68,64,64,64,62,61,61,59,58,57,55,54],\"yaxis\":\"y\",\"type\":\"bar\"}],                        {\"template\":{\"data\":{\"histogram2dcontour\":[{\"type\":\"histogram2dcontour\",\"colorbar\":{\"outlinewidth\":0,\"ticks\":\"\"},\"colorscale\":[[0.0,\"#0d0887\"],[0.1111111111111111,\"#46039f\"],[0.2222222222222222,\"#7201a8\"],[0.3333333333333333,\"#9c179e\"],[0.4444444444444444,\"#bd3786\"],[0.5555555555555556,\"#d8576b\"],[0.6666666666666666,\"#ed7953\"],[0.7777777777777778,\"#fb9f3a\"],[0.8888888888888888,\"#fdca26\"],[1.0,\"#f0f921\"]]}],\"choropleth\":[{\"type\":\"choropleth\",\"colorbar\":{\"outlinewidth\":0,\"ticks\":\"\"}}],\"histogram2d\":[{\"type\":\"histogram2d\",\"colorbar\":{\"outlinewidth\":0,\"ticks\":\"\"},\"colorscale\":[[0.0,\"#0d0887\"],[0.1111111111111111,\"#46039f\"],[0.2222222222222222,\"#7201a8\"],[0.3333333333333333,\"#9c179e\"],[0.4444444444444444,\"#bd3786\"],[0.5555555555555556,\"#d8576b\"],[0.6666666666666666,\"#ed7953\"],[0.7777777777777778,\"#fb9f3a\"],[0.8888888888888888,\"#fdca26\"],[1.0,\"#f0f921\"]]}],\"heatmap\":[{\"type\":\"heatmap\",\"colorbar\":{\"outlinewidth\":0,\"ticks\":\"\"},\"colorscale\":[[0.0,\"#0d0887\"],[0.1111111111111111,\"#46039f\"],[0.2222222222222222,\"#7201a8\"],[0.3333333333333333,\"#9c179e\"],[0.4444444444444444,\"#bd3786\"],[0.5555555555555556,\"#d8576b\"],[0.6666666666666666,\"#ed7953\"],[0.7777777777777778,\"#fb9f3a\"],[0.8888888888888888,\"#fdca26\"],[1.0,\"#f0f921\"]]}],\"heatmapgl\":[{\"type\":\"heatmapgl\",\"colorbar\":{\"outlinewidth\":0,\"ticks\":\"\"},\"colorscale\":[[0.0,\"#0d0887\"],[0.1111111111111111,\"#46039f\"],[0.2222222222222222,\"#7201a8\"],[0.3333333333333333,\"#9c179e\"],[0.4444444444444444,\"#bd3786\"],[0.5555555555555556,\"#d8576b\"],[0.6666666666666666,\"#ed7953\"],[0.7777777777777778,\"#fb9f3a\"],[0.8888888888888888,\"#fdca26\"],[1.0,\"#f0f921\"]]}],\"contourcarpet\":[{\"type\":\"contourcarpet\",\"colorbar\":{\"outlinewidth\":0,\"ticks\":\"\"}}],\"contour\":[{\"type\":\"contour\",\"colorbar\":{\"outlinewidth\":0,\"ticks\":\"\"},\"colorscale\":[[0.0,\"#0d0887\"],[0.1111111111111111,\"#46039f\"],[0.2222222222222222,\"#7201a8\"],[0.3333333333333333,\"#9c179e\"],[0.4444444444444444,\"#bd3786\"],[0.5555555555555556,\"#d8576b\"],[0.6666666666666666,\"#ed7953\"],[0.7777777777777778,\"#fb9f3a\"],[0.8888888888888888,\"#fdca26\"],[1.0,\"#f0f921\"]]}],\"surface\":[{\"type\":\"surface\",\"colorbar\":{\"outlinewidth\":0,\"ticks\":\"\"},\"colorscale\":[[0.0,\"#0d0887\"],[0.1111111111111111,\"#46039f\"],[0.2222222222222222,\"#7201a8\"],[0.3333333333333333,\"#9c179e\"],[0.4444444444444444,\"#bd3786\"],[0.5555555555555556,\"#d8576b\"],[0.6666666666666666,\"#ed7953\"],[0.7777777777777778,\"#fb9f3a\"],[0.8888888888888888,\"#fdca26\"],[1.0,\"#f0f921\"]]}],\"mesh3d\":[{\"type\":\"mesh3d\",\"colorbar\":{\"outlinewidth\":0,\"ticks\":\"\"}}],\"scatter\":[{\"fillpattern\":{\"fillmode\":\"overlay\",\"size\":10,\"solidity\":0.2},\"type\":\"scatter\"}],\"parcoords\":[{\"type\":\"parcoords\",\"line\":{\"colorbar\":{\"outlinewidth\":0,\"ticks\":\"\"}}}],\"scatterpolargl\":[{\"type\":\"scatterpolargl\",\"marker\":{\"colorbar\":{\"outlinewidth\":0,\"ticks\":\"\"}}}],\"bar\":[{\"error_x\":{\"color\":\"#2a3f5f\"},\"error_y\":{\"color\":\"#2a3f5f\"},\"marker\":{\"line\":{\"color\":\"#E5ECF6\",\"width\":0.5},\"pattern\":{\"fillmode\":\"overlay\",\"size\":10,\"solidity\":0.2}},\"type\":\"bar\"}],\"scattergeo\":[{\"type\":\"scattergeo\",\"marker\":{\"colorbar\":{\"outlinewidth\":0,\"ticks\":\"\"}}}],\"scatterpolar\":[{\"type\":\"scatterpolar\",\"marker\":{\"colorbar\":{\"outlinewidth\":0,\"ticks\":\"\"}}}],\"histogram\":[{\"marker\":{\"pattern\":{\"fillmode\":\"overlay\",\"size\":10,\"solidity\":0.2}},\"type\":\"histogram\"}],\"scattergl\":[{\"type\":\"scattergl\",\"marker\":{\"colorbar\":{\"outlinewidth\":0,\"ticks\":\"\"}}}],\"scatter3d\":[{\"type\":\"scatter3d\",\"line\":{\"colorbar\":{\"outlinewidth\":0,\"ticks\":\"\"}},\"marker\":{\"colorbar\":{\"outlinewidth\":0,\"ticks\":\"\"}}}],\"scattermapbox\":[{\"type\":\"scattermapbox\",\"marker\":{\"colorbar\":{\"outlinewidth\":0,\"ticks\":\"\"}}}],\"scatterternary\":[{\"type\":\"scatterternary\",\"marker\":{\"colorbar\":{\"outlinewidth\":0,\"ticks\":\"\"}}}],\"scattercarpet\":[{\"type\":\"scattercarpet\",\"marker\":{\"colorbar\":{\"outlinewidth\":0,\"ticks\":\"\"}}}],\"carpet\":[{\"aaxis\":{\"endlinecolor\":\"#2a3f5f\",\"gridcolor\":\"white\",\"linecolor\":\"white\",\"minorgridcolor\":\"white\",\"startlinecolor\":\"#2a3f5f\"},\"baxis\":{\"endlinecolor\":\"#2a3f5f\",\"gridcolor\":\"white\",\"linecolor\":\"white\",\"minorgridcolor\":\"white\",\"startlinecolor\":\"#2a3f5f\"},\"type\":\"carpet\"}],\"table\":[{\"cells\":{\"fill\":{\"color\":\"#EBF0F8\"},\"line\":{\"color\":\"white\"}},\"header\":{\"fill\":{\"color\":\"#C8D4E3\"},\"line\":{\"color\":\"white\"}},\"type\":\"table\"}],\"barpolar\":[{\"marker\":{\"line\":{\"color\":\"#E5ECF6\",\"width\":0.5},\"pattern\":{\"fillmode\":\"overlay\",\"size\":10,\"solidity\":0.2}},\"type\":\"barpolar\"}],\"pie\":[{\"automargin\":true,\"type\":\"pie\"}]},\"layout\":{\"autotypenumbers\":\"strict\",\"colorway\":[\"#636efa\",\"#EF553B\",\"#00cc96\",\"#ab63fa\",\"#FFA15A\",\"#19d3f3\",\"#FF6692\",\"#B6E880\",\"#FF97FF\",\"#FECB52\"],\"font\":{\"color\":\"#2a3f5f\"},\"hovermode\":\"closest\",\"hoverlabel\":{\"align\":\"left\"},\"paper_bgcolor\":\"white\",\"plot_bgcolor\":\"#E5ECF6\",\"polar\":{\"bgcolor\":\"#E5ECF6\",\"angularaxis\":{\"gridcolor\":\"white\",\"linecolor\":\"white\",\"ticks\":\"\"},\"radialaxis\":{\"gridcolor\":\"white\",\"linecolor\":\"white\",\"ticks\":\"\"}},\"ternary\":{\"bgcolor\":\"#E5ECF6\",\"aaxis\":{\"gridcolor\":\"white\",\"linecolor\":\"white\",\"ticks\":\"\"},\"baxis\":{\"gridcolor\":\"white\",\"linecolor\":\"white\",\"ticks\":\"\"},\"caxis\":{\"gridcolor\":\"white\",\"linecolor\":\"white\",\"ticks\":\"\"}},\"coloraxis\":{\"colorbar\":{\"outlinewidth\":0,\"ticks\":\"\"}},\"colorscale\":{\"sequential\":[[0.0,\"#0d0887\"],[0.1111111111111111,\"#46039f\"],[0.2222222222222222,\"#7201a8\"],[0.3333333333333333,\"#9c179e\"],[0.4444444444444444,\"#bd3786\"],[0.5555555555555556,\"#d8576b\"],[0.6666666666666666,\"#ed7953\"],[0.7777777777777778,\"#fb9f3a\"],[0.8888888888888888,\"#fdca26\"],[1.0,\"#f0f921\"]],\"sequentialminus\":[[0.0,\"#0d0887\"],[0.1111111111111111,\"#46039f\"],[0.2222222222222222,\"#7201a8\"],[0.3333333333333333,\"#9c179e\"],[0.4444444444444444,\"#bd3786\"],[0.5555555555555556,\"#d8576b\"],[0.6666666666666666,\"#ed7953\"],[0.7777777777777778,\"#fb9f3a\"],[0.8888888888888888,\"#fdca26\"],[1.0,\"#f0f921\"]],\"diverging\":[[0,\"#8e0152\"],[0.1,\"#c51b7d\"],[0.2,\"#de77ae\"],[0.3,\"#f1b6da\"],[0.4,\"#fde0ef\"],[0.5,\"#f7f7f7\"],[0.6,\"#e6f5d0\"],[0.7,\"#b8e186\"],[0.8,\"#7fbc41\"],[0.9,\"#4d9221\"],[1,\"#276419\"]]},\"xaxis\":{\"gridcolor\":\"white\",\"linecolor\":\"white\",\"ticks\":\"\",\"title\":{\"standoff\":15},\"zerolinecolor\":\"white\",\"automargin\":true,\"zerolinewidth\":2},\"yaxis\":{\"gridcolor\":\"white\",\"linecolor\":\"white\",\"ticks\":\"\",\"title\":{\"standoff\":15},\"zerolinecolor\":\"white\",\"automargin\":true,\"zerolinewidth\":2},\"scene\":{\"xaxis\":{\"backgroundcolor\":\"#E5ECF6\",\"gridcolor\":\"white\",\"linecolor\":\"white\",\"showbackground\":true,\"ticks\":\"\",\"zerolinecolor\":\"white\",\"gridwidth\":2},\"yaxis\":{\"backgroundcolor\":\"#E5ECF6\",\"gridcolor\":\"white\",\"linecolor\":\"white\",\"showbackground\":true,\"ticks\":\"\",\"zerolinecolor\":\"white\",\"gridwidth\":2},\"zaxis\":{\"backgroundcolor\":\"#E5ECF6\",\"gridcolor\":\"white\",\"linecolor\":\"white\",\"showbackground\":true,\"ticks\":\"\",\"zerolinecolor\":\"white\",\"gridwidth\":2}},\"shapedefaults\":{\"line\":{\"color\":\"#2a3f5f\"}},\"annotationdefaults\":{\"arrowcolor\":\"#2a3f5f\",\"arrowhead\":0,\"arrowwidth\":1},\"geo\":{\"bgcolor\":\"white\",\"landcolor\":\"#E5ECF6\",\"subunitcolor\":\"white\",\"showland\":true,\"showlakes\":true,\"lakecolor\":\"white\"},\"title\":{\"x\":0.05},\"mapbox\":{\"style\":\"light\"}}},\"xaxis\":{\"anchor\":\"y\",\"domain\":[0.0,1.0],\"title\":{\"text\":\"Grounds\"}},\"yaxis\":{\"anchor\":\"x\",\"domain\":[0.0,1.0],\"title\":{\"text\":\"Ground\"}},\"legend\":{\"tracegroupgap\":0},\"margin\":{\"t\":60},\"barmode\":\"relative\"},                        {\"responsive\": true}                    ).then(function(){\n",
       "                            \n",
       "var gd = document.getElementById('3eab7b5c-8da4-4e44-82cc-67f7e5bdcc27');\n",
       "var x = new MutationObserver(function (mutations, observer) {{\n",
       "        var display = window.getComputedStyle(gd).display;\n",
       "        if (!display || display === 'none') {{\n",
       "            console.log([gd, 'removed!']);\n",
       "            Plotly.purge(gd);\n",
       "            observer.disconnect();\n",
       "        }}\n",
       "}});\n",
       "\n",
       "// Listen for the removal of the full notebook cells\n",
       "var notebookContainer = gd.closest('#notebook-container');\n",
       "if (notebookContainer) {{\n",
       "    x.observe(notebookContainer, {childList: true});\n",
       "}}\n",
       "\n",
       "// Listen for the clearing of the current output cell\n",
       "var outputEl = gd.closest('.output');\n",
       "if (outputEl) {{\n",
       "    x.observe(outputEl, {childList: true});\n",
       "}}\n",
       "\n",
       "                        })                };                });            </script>        </div>"
      ]
     },
     "metadata": {},
     "output_type": "display_data"
    }
   ],
   "source": [
    "grounds=df['Ground'].value_counts()\n",
    "grounds=pd.DataFrame(grounds)\n",
    "grounds['Grounds']=grounds.index\n",
    "grounds.reset_index(drop=True,inplace=True)\n",
    "grounds=grounds[:25]\n",
    "fig = px.bar(grounds, x=\"Grounds\", y=\"Ground\") \n",
    "fig.show()"
   ]
  },
  {
   "cell_type": "markdown",
   "id": "b03a1907",
   "metadata": {
    "papermill": {
     "duration": 0.008347,
     "end_time": "2023-05-31T14:20:59.528993",
     "exception": false,
     "start_time": "2023-05-31T14:20:59.520646",
     "status": "completed"
    },
    "tags": []
   },
   "source": [
    "# ODIs played in each Year"
   ]
  },
  {
   "cell_type": "code",
   "execution_count": 13,
   "id": "5e567b0b",
   "metadata": {
    "execution": {
     "iopub.execute_input": "2023-05-31T14:20:59.547404Z",
     "iopub.status.busy": "2023-05-31T14:20:59.546773Z",
     "iopub.status.idle": "2023-05-31T14:21:00.606101Z",
     "shell.execute_reply": "2023-05-31T14:21:00.605184Z"
    },
    "papermill": {
     "duration": 1.07101,
     "end_time": "2023-05-31T14:21:00.608247",
     "exception": false,
     "start_time": "2023-05-31T14:20:59.537237",
     "status": "completed"
    },
    "tags": []
   },
   "outputs": [
    {
     "data": {
      "text/plain": [
       "<Axes: xlabel='year', ylabel='count'>"
      ]
     },
     "execution_count": 13,
     "metadata": {},
     "output_type": "execute_result"
    },
    {
     "data": {
      "image/png": "[encoded data removed]",
      "text/plain": [
       "<Figure size 640x480 with 1 Axes>"
      ]
     },
     "metadata": {},
     "output_type": "display_data"
    }
   ],
   "source": [
    "year=[]\n",
    "for i in df['Match Date']:\n",
    "    data=i.split(' ')\n",
    "    year.append(data[-1])\n",
    "df['year']=year\n",
    "years=df.copy()\n",
    "years=years.sort_values('year',ascending=True)\n",
    "plt.xticks(rotation=90)\n",
    "sns.countplot(x='year',data=years)"
   ]
  },
  {
   "cell_type": "markdown",
   "id": "59dbe883",
   "metadata": {
    "papermill": {
     "duration": 0.009235,
     "end_time": "2023-05-31T14:21:00.627021",
     "exception": false,
     "start_time": "2023-05-31T14:21:00.617786",
     "status": "completed"
    },
    "tags": []
   },
   "source": [
    "# Conclusions\n",
    "* **India(1029) played most number of matches** since the inagural of ODIs in 1971 ,followed by Australia(978).\n",
    "* The difference between number of matches won by chasing (2213) and by defending (2157) is very minute.It is worthy to note that almost 208 matches were tied from 1971 till today.\n",
    "* **Australia(594) dominated the ODIs by winning the most number of matches** followed by India (539),Pakistan (503),West Indies (411) and South Africa (399).\n",
    "* Although Australia and India played the most number of matches the venue which hosted **most number of matches Sharjha**(244), is located in Pakisthan.Harare (174),Sydney (160),Melbourne (150), and Columbia (138) occupy the susequent positions respectectively.\n",
    "* 1. The number of ODI matches played in a year never crossed 100 till 1995, this can be correlated to the popularity of test matches in 90's.\n",
    "  2. After that we can see around 150 matches being played consistently over the next 2 decades\n",
    "  3. We can see an abnomality in 2020.This is due to the Covid-19 pandemic and also we can notice the number of matches picking up pace after that.\n",
    "  4. Considering the popularity of T20 cricket and domestic leagues we may see a decrease in the number of ODI matches played in the up coming years. "
   ]
  }
 ],
 "metadata": {
  "kernelspec": {
   "display_name": "Python 3",
   "language": "python",
   "name": "python3"
  },
  "language_info": {
   "codemirror_mode": {
    "name": "ipython",
    "version": 3
   },
   "file_extension": ".py",
   "mimetype": "text/x-python",
   "name": "python",
   "nbconvert_exporter": "python",
   "pygments_lexer": "ipython3",
   "version": "3.10.10"
  },
  "papermill": {
   "default_parameters": {},
   "duration": 17.416619,
   "end_time": "2023-05-31T14:21:01.558106",
   "environment_variables": {},
   "exception": null,
   "input_path": "__notebook__.ipynb",
   "output_path": "__notebook__.ipynb",
   "parameters": {},
   "start_time": "2023-05-31T14:20:44.141487",
   "version": "2.4.0"
  }
 },
 "nbformat": 4,
 "nbformat_minor": 5
}
